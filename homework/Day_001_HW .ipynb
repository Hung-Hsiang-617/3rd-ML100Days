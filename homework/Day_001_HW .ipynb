{
 "cells": [
  {
   "cell_type": "markdown",
   "metadata": {},
   "source": [
    "## 練習時間\n",
    "#### 請寫一個函式用來計算 Mean Square Error\n",
    "$ MSE = \\frac{1}{n}\\sum_{i=1}^{n}{(Y_i - \\hat{Y}_i)^2} $\n",
    "\n",
    "### Hint: [如何取平方](https://googoodesign.gitbooks.io/-ezpython/unit-1.html)"
   ]
  },
  {
   "cell_type": "markdown",
   "metadata": {},
   "source": [
    "# [作業目標]\n",
    "- 仿造範例的MAE函數, 自己寫一個MSE函數(參考上面公式)"
   ]
  },
  {
   "cell_type": "markdown",
   "metadata": {},
   "source": [
    "# [作業重點]\n",
    "- 注意程式的縮排\n",
    "- 是否能將數學公式, 轉換為 Python 的函式組合? (In[2], Out[2])"
   ]
  },
  {
   "cell_type": "code",
   "execution_count": 35,
   "metadata": {
    "collapsed": true
   },
   "outputs": [],
   "source": [
    "# 載入基礎套件與代稱\n",
    "import numpy as np\n",
    "import matplotlib.pyplot as plt\n",
    "import math"
   ]
  },
  {
   "cell_type": "code",
   "execution_count": 36,
   "metadata": {
    "collapsed": false
   },
   "outputs": [],
   "source": [
    "def mean_absolute_error(y, yp):\n",
    "    \"\"\"\n",
    "    計算 MAE\n",
    "    Args:\n",
    "        - y: 實際值\n",
    "        - yp: 預測值\n",
    "    Return:\n",
    "        - mae: MAE\n",
    "    \"\"\"\n",
    "    mae = MAE = sum(abs(y - yp)) / len(y)\n",
    "    return mae\n",
    "\n",
    "# 定義 mean_squared_error 這個函數, 計算並傳回 MSE\n",
    "def mean_squared_error(y,yp):\n",
    "    result=sum((y-yp)**2)\n",
    "    MSE=result/len(y)\n",
    "    \n",
    "    return MSE"
   ]
  },
  {
   "cell_type": "code",
   "execution_count": 37,
   "metadata": {
    "collapsed": false
   },
   "outputs": [
    {
     "data": {
      "image/png": "[encoded data removed]",
      "text/plain": [
       "<Figure size 432x288 with 1 Axes>"
      ]
     },
     "metadata": {},
     "output_type": "display_data"
    }
   ],
   "source": [
    "# 與範例相同, 不另外解說\n",
    "w = 3\n",
    "b = 0.5\n",
    "x_lin = np.linspace(0, 100, 101)\n",
    "y = (x_lin + np.random.randn(101) * 5) * w + b\n",
    "\n",
    "plt.plot(x_lin, y, 'b.', label = 'data points')\n",
    "plt.title(\"Assume we have data points\")\n",
    "plt.legend(loc = 2)\n",
    "plt.show()"
   ]
  },
  {
   "cell_type": "code",
   "execution_count": 38,
   "metadata": {
    "collapsed": false
   },
   "outputs": [
    {
     "data": {
      "image/png": "[encoded data removed]",
      "text/plain": [
       "<Figure size 432x288 with 1 Axes>"
      ]
     },
     "metadata": {},
     "output_type": "display_data"
    }
   ],
   "source": [
    "# 與範例相同, 不另外解說\n",
    "y_hat = x_lin * w + b\n",
    "plt.plot(x_lin, y, 'b.', label = 'data')\n",
    "plt.plot(x_lin, y_hat, 'r-', label = 'prediction')\n",
    "plt.title(\"Assume we have data points (And the prediction)\")\n",
    "plt.legend(loc = 2)\n",
    "plt.show()"
   ]
  },
  {
   "cell_type": "code",
   "execution_count": 40,
   "metadata": {
    "collapsed": false
   },
   "outputs": [
    {
     "name": "stdout",
     "output_type": "stream",
     "text": [
      "The Mean squared error is 225.788\n",
      "The Mean absolute error is 12.038\n"
     ]
    }
   ],
   "source": [
    "# 執行 Function, 確認有沒有正常執行\n",
    "MSE = mean_squared_error(y, y_hat)\n",
    "MAE = mean_absolute_error(y, y_hat)\n",
    "print(\"The Mean squared error is %.3f\" % (MSE))\n",
    "print(\"The Mean absolute error is %.3f\" % (MAE))\n"
   ]
  },
  {
   "cell_type": "markdown",
   "metadata": {},
   "source": [
    "# [作業2]\n",
    "\n",
    "請上 Kaggle, 在 Competitions 或 Dataset 中找一組競賽或資料並寫下：\n",
    "\n",
    "1. 你選的這組資料為何重要\n",
    "\n",
    "2. 資料從何而來 (tips: 譬如提供者是誰、以什麼方式蒐集)\n",
    "\n",
    "3. 蒐集而來的資料型態為何\n",
    "\n",
    "4. 這組資料想解決的問題如何評估\n",
    "\n",
    "# [作業3]\n",
    "\n",
    "想像你經營一個自由載客車隊，你希望能透過數據分析以提升業績，請你思考並描述你如何規劃整體的分析/解決方案：\n",
    "\n",
    "1. 核心問題為何 (tips：如何定義 「提升業績 & 你的假設」)\n",
    "\n",
    "2. 資料從何而來 (tips：哪些資料可能會對你想問的問題產生影響 & 資料如何蒐集)\n",
    "\n",
    "3. 蒐集而來的資料型態為何\n",
    "\n",
    "4. 你要回答的問題，其如何評估 (tips：你的假設如何驗證)"
   ]
  },
  {
   "cell_type": "code",
   "execution_count": null,
   "metadata": {
    "collapsed": true
   },
   "outputs": [],
   "source": [
    "'''\n",
    "作業:2\n",
    "\n",
    "I choose Open Images 2019 - Instance Segmentation.\n",
    "1.因為可以增進分割在各類物品的應用\n",
    "2.The train and validation sets of images \n",
    "and their ground truth (instance masks) should be downloaded from the Open Images Challenge page.\n",
    "3..jpg\n",
    "4.Computer vision has advanced considerably but is still challenged in matching the precision of human perception.\n",
    "\n",
    "作業:3\n",
    "\n",
    "1.如何在短時間內打好資名度\n",
    "2.與客運公司合作\n",
    "3.乘客年齡,出發地點,目的地\n",
    "4.利用分析乘客的特徵思考分配載客的車輛\n",
    "'''"
   ]
  }
 ],
 "metadata": {
  "anaconda-cloud": {},
  "kernelspec": {
   "display_name": "Python [default]",
   "language": "python",
   "name": "python3"
  },
  "language_info": {
   "codemirror_mode": {
    "name": "ipython",
    "version": 3
   },
   "file_extension": ".py",
   "mimetype": "text/x-python",
   "name": "python",
   "nbconvert_exporter": "python",
   "pygments_lexer": "ipython3",
   "version": "3.5.6"
  }
 },
 "nbformat": 4,
 "nbformat_minor": 1
}
